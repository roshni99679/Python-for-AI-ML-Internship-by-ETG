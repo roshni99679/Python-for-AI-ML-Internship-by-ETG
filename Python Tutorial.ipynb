{
 "cells": [
  {
   "cell_type": "markdown",
   "id": "4392a81b",
   "metadata": {},
   "source": [
    "#Data structure in python \n",
    "##1.strings"
   ]
  },
  {
   "cell_type": "code",
   "execution_count": 1,
   "id": "496b3e5f",
   "metadata": {},
   "outputs": [
    {
     "data": {
      "text/plain": [
       "int"
      ]
     },
     "execution_count": 1,
     "metadata": {},
     "output_type": "execute_result"
    }
   ],
   "source": [
    "var=5666\n",
    "type(var)"
   ]
  },
  {
   "cell_type": "code",
   "execution_count": 2,
   "id": "c64b20b7",
   "metadata": {},
   "outputs": [
    {
     "data": {
      "text/plain": [
       "str"
      ]
     },
     "execution_count": 2,
     "metadata": {},
     "output_type": "execute_result"
    }
   ],
   "source": [
    "vars=\"hello\"\n",
    "type(vars)"
   ]
  },
  {
   "cell_type": "code",
   "execution_count": 1,
   "id": "6fc18b40",
   "metadata": {},
   "outputs": [
    {
     "name": "stdout",
     "output_type": "stream",
     "text": [
      "11\n",
      "22\n",
      "11\n"
     ]
    }
   ],
   "source": [
    "lab=22\n",
    "def Gunction():\n",
    "    lab=11\n",
    "    print(lab)\n",
    "Gunction()\n",
    "print(lab)\n",
    "Gunction()"
   ]
  },
  {
   "cell_type": "code",
   "execution_count": 11,
   "id": "2c2e927c",
   "metadata": {},
   "outputs": [
    {
     "name": "stdout",
     "output_type": "stream",
     "text": [
      "12\n",
      "Roshni Gupta\n",
      "Ro\n",
      "hni Gupta\n",
      "a\n",
      "Rsn ut\n",
      "atpuG inhsoR\n",
      "apGiho\n"
     ]
    }
   ],
   "source": [
    "\n",
    "fn=\"Roshni\"\n",
    "ln=\"Gupta\"\n",
    "fullname=fn+\" \"+ln\n",
    "\n",
    "print(len(fullname))\n",
    "print(fullname[:])\n",
    "print(fullname[:2])\n",
    "print(fullname[3:])\n",
    "print(fullname[-1])\n",
    "print(fullname[::2])\n",
    "print(fullname[::-1])\n",
    "print(fullname[::-2])\n"
   ]
  },
  {
   "cell_type": "code",
   "execution_count": 14,
   "id": "d9195893",
   "metadata": {},
   "outputs": [
    {
     "name": "stdout",
     "output_type": "stream",
     "text": [
      "['Hello.', 'my', 'name.', 'is', 'roshni', 'gupta!']\n",
      "['Hello. my name. is roshni gupta', '']\n",
      "['Hello', ' my name', ' is roshni gupta!']\n"
     ]
    }
   ],
   "source": [
    "string=\"Hello. my name. is roshni gupta!\"\n",
    "print(string.split(\" \"))\n",
    "print(string.split(\"!\"))\n",
    "print(string.split(\".\"))"
   ]
  },
  {
   "cell_type": "markdown",
   "id": "b7609d7e",
   "metadata": {},
   "source": [
    "#2.intergers   & 3.Floats"
   ]
  },
  {
   "cell_type": "code",
   "execution_count": 15,
   "id": "72ead9f3",
   "metadata": {},
   "outputs": [
    {
     "data": {
      "text/plain": [
       "int"
      ]
     },
     "execution_count": 15,
     "metadata": {},
     "output_type": "execute_result"
    }
   ],
   "source": [
    "type(-22)"
   ]
  },
  {
   "cell_type": "code",
   "execution_count": 16,
   "id": "9cb5440c",
   "metadata": {},
   "outputs": [
    {
     "data": {
      "text/plain": [
       "8"
      ]
     },
     "execution_count": 16,
     "metadata": {},
     "output_type": "execute_result"
    }
   ],
   "source": [
    "2**3"
   ]
  },
  {
   "cell_type": "code",
   "execution_count": 19,
   "id": "773111f0",
   "metadata": {},
   "outputs": [
    {
     "name": "stdout",
     "output_type": "stream",
     "text": [
      "55\n"
     ]
    }
   ],
   "source": [
    "n1=22\n",
    "n2=33\n",
    "n3=n1+n2\n",
    "print(n3)"
   ]
  },
  {
   "cell_type": "code",
   "execution_count": 26,
   "id": "23206254",
   "metadata": {},
   "outputs": [
    {
     "name": "stdout",
     "output_type": "stream",
     "text": [
      "4\n"
     ]
    }
   ],
   "source": [
    "n1=2\n",
    "n1+=2\n",
    "print(n1)"
   ]
  },
  {
   "cell_type": "code",
   "execution_count": 27,
   "id": "86c894eb",
   "metadata": {},
   "outputs": [
    {
     "data": {
      "text/plain": [
       "44"
      ]
     },
     "execution_count": 27,
     "metadata": {},
     "output_type": "execute_result"
    }
   ],
   "source": [
    "22+22"
   ]
  },
  {
   "cell_type": "code",
   "execution_count": 28,
   "id": "3cd325c7",
   "metadata": {},
   "outputs": [
    {
     "data": {
      "text/plain": [
       "88.0"
      ]
     },
     "execution_count": 28,
     "metadata": {},
     "output_type": "execute_result"
    }
   ],
   "source": [
    "22+66.0"
   ]
  },
  {
   "cell_type": "code",
   "execution_count": 29,
   "id": "0716254f",
   "metadata": {},
   "outputs": [
    {
     "data": {
      "text/plain": [
       "22.0"
      ]
     },
     "execution_count": 29,
     "metadata": {},
     "output_type": "execute_result"
    }
   ],
   "source": [
    "222-200.0"
   ]
  },
  {
   "cell_type": "code",
   "execution_count": 30,
   "id": "15261274",
   "metadata": {},
   "outputs": [
    {
     "data": {
      "text/plain": [
       "0"
      ]
     },
     "execution_count": 30,
     "metadata": {},
     "output_type": "execute_result"
    }
   ],
   "source": [
    "10%2"
   ]
  },
  {
   "cell_type": "code",
   "execution_count": 31,
   "id": "9bffa9cf",
   "metadata": {},
   "outputs": [
    {
     "data": {
      "text/plain": [
       "1"
      ]
     },
     "execution_count": 31,
     "metadata": {},
     "output_type": "execute_result"
    }
   ],
   "source": [
    "11%2"
   ]
  },
  {
   "cell_type": "code",
   "execution_count": 34,
   "id": "044f42bb",
   "metadata": {},
   "outputs": [
    {
     "name": "stdout",
     "output_type": "stream",
     "text": [
      "Hello22\n"
     ]
    }
   ],
   "source": [
    "n1=22\n",
    "n2=\"Hello\"\n",
    "print(n2+str(n1))\n"
   ]
  },
  {
   "cell_type": "markdown",
   "id": "7b9c01d6",
   "metadata": {},
   "source": [
    "#4.Boolean\n"
   ]
  },
  {
   "cell_type": "code",
   "execution_count": 35,
   "id": "f5b8589e",
   "metadata": {},
   "outputs": [
    {
     "data": {
      "text/plain": [
       "True"
      ]
     },
     "execution_count": 35,
     "metadata": {},
     "output_type": "execute_result"
    }
   ],
   "source": [
    "False==0"
   ]
  },
  {
   "cell_type": "code",
   "execution_count": 39,
   "id": "f6d75120",
   "metadata": {},
   "outputs": [
    {
     "data": {
      "text/plain": [
       "False"
      ]
     },
     "execution_count": 39,
     "metadata": {},
     "output_type": "execute_result"
    }
   ],
   "source": [
    "True==2"
   ]
  },
  {
   "cell_type": "code",
   "execution_count": 37,
   "id": "0a8f5a8e",
   "metadata": {},
   "outputs": [
    {
     "data": {
      "text/plain": [
       "True"
      ]
     },
     "execution_count": 37,
     "metadata": {},
     "output_type": "execute_result"
    }
   ],
   "source": [
    "1==1.000000"
   ]
  },
  {
   "cell_type": "code",
   "execution_count": 38,
   "id": "4141e378",
   "metadata": {},
   "outputs": [
    {
     "data": {
      "text/plain": [
       "bool"
      ]
     },
     "execution_count": 38,
     "metadata": {},
     "output_type": "execute_result"
    }
   ],
   "source": [
    "var=True\n",
    "type(var)"
   ]
  },
  {
   "cell_type": "code",
   "execution_count": 40,
   "id": "0c3970ab",
   "metadata": {},
   "outputs": [
    {
     "data": {
      "text/plain": [
       "False"
      ]
     },
     "execution_count": 40,
     "metadata": {},
     "output_type": "execute_result"
    }
   ],
   "source": [
    "False==2"
   ]
  },
  {
   "cell_type": "code",
   "execution_count": 1,
   "id": "69d8500e",
   "metadata": {},
   "outputs": [],
   "source": [
    "##Type casting\n",
    "#string ->Int\n",
    "#string->Float\n",
    "#string->bool"
   ]
  },
  {
   "cell_type": "code",
   "execution_count": 13,
   "id": "6b14df7e",
   "metadata": {},
   "outputs": [
    {
     "data": {
      "text/plain": [
       "112.0"
      ]
     },
     "execution_count": 13,
     "metadata": {},
     "output_type": "execute_result"
    }
   ],
   "source": [
    "str=\"112\"\n",
    "float(str)\n"
   ]
  },
  {
   "cell_type": "code",
   "execution_count": 17,
   "id": "8e902181",
   "metadata": {},
   "outputs": [
    {
     "data": {
      "text/plain": [
       "1223.0"
      ]
     },
     "execution_count": 17,
     "metadata": {},
     "output_type": "execute_result"
    }
   ],
   "source": [
    "int=1223.00\n",
    "float(int)"
   ]
  },
  {
   "cell_type": "code",
   "execution_count": 18,
   "id": "81fba9b4",
   "metadata": {},
   "outputs": [
    {
     "ename": "TypeError",
     "evalue": "'str' object is not callable",
     "output_type": "error",
     "traceback": [
      "\u001b[1;31m---------------------------------------------------------------------------\u001b[0m",
      "\u001b[1;31mTypeError\u001b[0m                                 Traceback (most recent call last)",
      "\u001b[1;32mC:\\Users\\KHUSHB~1\\AppData\\Local\\Temp/ipykernel_15772/3162343916.py\u001b[0m in \u001b[0;36m<module>\u001b[1;34m\u001b[0m\n\u001b[0;32m      1\u001b[0m \u001b[0mbbol\u001b[0m\u001b[1;33m=\u001b[0m\u001b[1;32mTrue\u001b[0m\u001b[1;33m\u001b[0m\u001b[1;33m\u001b[0m\u001b[0m\n\u001b[1;32m----> 2\u001b[1;33m \u001b[0mstr\u001b[0m\u001b[1;33m(\u001b[0m\u001b[0mbbol\u001b[0m\u001b[1;33m)\u001b[0m\u001b[1;33m\u001b[0m\u001b[1;33m\u001b[0m\u001b[0m\n\u001b[0m",
      "\u001b[1;31mTypeError\u001b[0m: 'str' object is not callable"
     ]
    }
   ],
   "source": [
    "bbol=True\n",
    "str(bbol)"
   ]
  },
  {
   "cell_type": "code",
   "execution_count": 19,
   "id": "0e27b479",
   "metadata": {},
   "outputs": [],
   "source": [
    "#INPUT \n"
   ]
  },
  {
   "cell_type": "code",
   "execution_count": 23,
   "id": "a0dee9c3",
   "metadata": {},
   "outputs": [
    {
     "name": "stdout",
     "output_type": "stream",
     "text": [
      "Enter number 1:2\n",
      "enter number 2 :2\n",
      "1.0\n"
     ]
    }
   ],
   "source": [
    "num1=float(input(\"Enter number 1:\"))\n",
    "num2=float(input(\"enter number 2 :\"))\n",
    "num3=num1/num2\n",
    "print(num3)"
   ]
  },
  {
   "cell_type": "code",
   "execution_count": 24,
   "id": "46410899",
   "metadata": {},
   "outputs": [],
   "source": [
    "#Operators in python \n",
    "#1. Arithematic op"
   ]
  },
  {
   "cell_type": "code",
   "execution_count": 30,
   "id": "682457d3",
   "metadata": {},
   "outputs": [
    {
     "data": {
      "text/plain": [
       "25"
      ]
     },
     "execution_count": 30,
     "metadata": {},
     "output_type": "execute_result"
    }
   ],
   "source": [
    "12+13"
   ]
  },
  {
   "cell_type": "code",
   "execution_count": 26,
   "id": "adb8ae46",
   "metadata": {},
   "outputs": [
    {
     "data": {
      "text/plain": [
       "-1"
      ]
     },
     "execution_count": 26,
     "metadata": {},
     "output_type": "execute_result"
    }
   ],
   "source": [
    "12-13"
   ]
  },
  {
   "cell_type": "code",
   "execution_count": 27,
   "id": "54cf64fb",
   "metadata": {},
   "outputs": [
    {
     "data": {
      "text/plain": [
       "156"
      ]
     },
     "execution_count": 27,
     "metadata": {},
     "output_type": "execute_result"
    }
   ],
   "source": [
    "12*13"
   ]
  },
  {
   "cell_type": "code",
   "execution_count": 28,
   "id": "23a715f2",
   "metadata": {},
   "outputs": [
    {
     "data": {
      "text/plain": [
       "0.9230769230769231"
      ]
     },
     "execution_count": 28,
     "metadata": {},
     "output_type": "execute_result"
    }
   ],
   "source": [
    "12/13"
   ]
  },
  {
   "cell_type": "code",
   "execution_count": 29,
   "id": "a1ecd702",
   "metadata": {},
   "outputs": [
    {
     "data": {
      "text/plain": [
       "8"
      ]
     },
     "execution_count": 29,
     "metadata": {},
     "output_type": "execute_result"
    }
   ],
   "source": [
    "2**3"
   ]
  },
  {
   "cell_type": "code",
   "execution_count": 31,
   "id": "f82328bc",
   "metadata": {},
   "outputs": [
    {
     "data": {
      "text/plain": [
       "12"
      ]
     },
     "execution_count": 31,
     "metadata": {},
     "output_type": "execute_result"
    }
   ],
   "source": [
    "12%13"
   ]
  },
  {
   "cell_type": "code",
   "execution_count": 32,
   "id": "b0d7b293",
   "metadata": {},
   "outputs": [
    {
     "data": {
      "text/plain": [
       "'1213'"
      ]
     },
     "execution_count": 32,
     "metadata": {},
     "output_type": "execute_result"
    }
   ],
   "source": [
    "\"12\"+\"13\""
   ]
  },
  {
   "cell_type": "code",
   "execution_count": 34,
   "id": "175e8b1c",
   "metadata": {},
   "outputs": [],
   "source": [
    "#Assignment op"
   ]
  },
  {
   "cell_type": "code",
   "execution_count": 35,
   "id": "e1d3236c",
   "metadata": {},
   "outputs": [
    {
     "name": "stdout",
     "output_type": "stream",
     "text": [
      "3\n"
     ]
    }
   ],
   "source": [
    "a=2\n",
    "a+=1\n",
    "print(a)"
   ]
  },
  {
   "cell_type": "code",
   "execution_count": 36,
   "id": "0070e19a",
   "metadata": {},
   "outputs": [
    {
     "name": "stdout",
     "output_type": "stream",
     "text": [
      "1\n"
     ]
    }
   ],
   "source": [
    "a=2\n",
    "a-=1\n",
    "print(a)"
   ]
  },
  {
   "cell_type": "code",
   "execution_count": 37,
   "id": "fd4f8de8",
   "metadata": {},
   "outputs": [
    {
     "name": "stdout",
     "output_type": "stream",
     "text": [
      "2\n"
     ]
    }
   ],
   "source": [
    "a=2\n",
    "a*=1\n",
    "print(a)"
   ]
  },
  {
   "cell_type": "code",
   "execution_count": 38,
   "id": "0eba3d25",
   "metadata": {},
   "outputs": [
    {
     "name": "stdout",
     "output_type": "stream",
     "text": [
      "2.0\n"
     ]
    }
   ],
   "source": [
    "a=2\n",
    "a/=1\n",
    "print(a)"
   ]
  },
  {
   "cell_type": "code",
   "execution_count": 42,
   "id": "410bfecb",
   "metadata": {},
   "outputs": [
    {
     "name": "stdout",
     "output_type": "stream",
     "text": [
      "2\n"
     ]
    }
   ],
   "source": [
    "a=2\n",
    "a%=4\n",
    "print(a)"
   ]
  },
  {
   "cell_type": "code",
   "execution_count": 41,
   "id": "cba7770c",
   "metadata": {},
   "outputs": [
    {
     "name": "stdout",
     "output_type": "stream",
     "text": [
      "8\n"
     ]
    }
   ],
   "source": [
    "a=2\n",
    "a**=3\n",
    "print(a)"
   ]
  },
  {
   "cell_type": "code",
   "execution_count": 43,
   "id": "6e897685",
   "metadata": {},
   "outputs": [],
   "source": [
    "#Comparison op"
   ]
  },
  {
   "cell_type": "code",
   "execution_count": 45,
   "id": "34bf9cea",
   "metadata": {},
   "outputs": [
    {
     "data": {
      "text/plain": [
       "True"
      ]
     },
     "execution_count": 45,
     "metadata": {},
     "output_type": "execute_result"
    }
   ],
   "source": [
    "#Equality op\n",
    "a=21\n",
    "b=21\n",
    "a==b"
   ]
  },
  {
   "cell_type": "code",
   "execution_count": 46,
   "id": "ee952d80",
   "metadata": {},
   "outputs": [
    {
     "data": {
      "text/plain": [
       "False"
      ]
     },
     "execution_count": 46,
     "metadata": {},
     "output_type": "execute_result"
    }
   ],
   "source": [
    "a!=b\n"
   ]
  },
  {
   "cell_type": "code",
   "execution_count": 50,
   "id": "56e86fca",
   "metadata": {},
   "outputs": [
    {
     "data": {
      "text/plain": [
       "True"
      ]
     },
     "execution_count": 50,
     "metadata": {},
     "output_type": "execute_result"
    }
   ],
   "source": [
    "a=True\n",
    "b=12\n",
    "a<b"
   ]
  },
  {
   "cell_type": "code",
   "execution_count": 48,
   "id": "dcdc581d",
   "metadata": {},
   "outputs": [
    {
     "data": {
      "text/plain": [
       "False"
      ]
     },
     "execution_count": 48,
     "metadata": {},
     "output_type": "execute_result"
    }
   ],
   "source": [
    "a>b"
   ]
  },
  {
   "cell_type": "code",
   "execution_count": 51,
   "id": "f36d24f0",
   "metadata": {},
   "outputs": [
    {
     "data": {
      "text/plain": [
       "True"
      ]
     },
     "execution_count": 51,
     "metadata": {},
     "output_type": "execute_result"
    }
   ],
   "source": [
    "a<=b"
   ]
  },
  {
   "cell_type": "code",
   "execution_count": 55,
   "id": "0d3ff638",
   "metadata": {},
   "outputs": [
    {
     "data": {
      "text/plain": [
       "True"
      ]
     },
     "execution_count": 55,
     "metadata": {},
     "output_type": "execute_result"
    }
   ],
   "source": [
    "a=True\n",
    "b=1.1111\n",
    "a<b"
   ]
  },
  {
   "cell_type": "code",
   "execution_count": 54,
   "id": "46ec6aec",
   "metadata": {},
   "outputs": [
    {
     "data": {
      "text/plain": [
       "True"
      ]
     },
     "execution_count": 54,
     "metadata": {},
     "output_type": "execute_result"
    }
   ],
   "source": [
    "a>b\n"
   ]
  },
  {
   "cell_type": "code",
   "execution_count": 56,
   "id": "1bc548c7",
   "metadata": {},
   "outputs": [
    {
     "data": {
      "text/plain": [
       "False"
      ]
     },
     "execution_count": 56,
     "metadata": {},
     "output_type": "execute_result"
    }
   ],
   "source": [
    "2!=2.000"
   ]
  },
  {
   "cell_type": "code",
   "execution_count": 57,
   "id": "0222d588",
   "metadata": {},
   "outputs": [
    {
     "data": {
      "text/plain": [
       "11"
      ]
     },
     "execution_count": 57,
     "metadata": {},
     "output_type": "execute_result"
    }
   ],
   "source": [
    "23%12\n"
   ]
  },
  {
   "cell_type": "code",
   "execution_count": 58,
   "id": "2b9ced8d",
   "metadata": {},
   "outputs": [
    {
     "data": {
      "text/plain": [
       "15625"
      ]
     },
     "execution_count": 58,
     "metadata": {},
     "output_type": "execute_result"
    }
   ],
   "source": [
    "5**6\n"
   ]
  },
  {
   "cell_type": "code",
   "execution_count": 60,
   "id": "bdeabd39",
   "metadata": {},
   "outputs": [
    {
     "ename": "TypeError",
     "evalue": "'float' object is not callable",
     "output_type": "error",
     "traceback": [
      "\u001b[1;31m---------------------------------------------------------------------------\u001b[0m",
      "\u001b[1;31mTypeError\u001b[0m                                 Traceback (most recent call last)",
      "\u001b[1;32mC:\\Users\\KHUSHB~1\\AppData\\Local\\Temp/ipykernel_15772/241319488.py\u001b[0m in \u001b[0;36m<module>\u001b[1;34m\u001b[0m\n\u001b[1;32m----> 1\u001b[1;33m \u001b[0mtype\u001b[0m\u001b[1;33m(\u001b[0m\u001b[0mstr\u001b[0m\u001b[1;33m(\u001b[0m\u001b[0mint\u001b[0m\u001b[1;33m(\u001b[0m\u001b[1;36m17.3\u001b[0m\u001b[1;33m)\u001b[0m\u001b[1;33m)\u001b[0m\u001b[1;33m)\u001b[0m\u001b[1;33m\u001b[0m\u001b[1;33m\u001b[0m\u001b[0m\n\u001b[0m",
      "\u001b[1;31mTypeError\u001b[0m: 'float' object is not callable"
     ]
    }
   ],
   "source": [
    "type(str(int(17.3)))"
   ]
  },
  {
   "cell_type": "code",
   "execution_count": 1,
   "id": "499d38f6",
   "metadata": {},
   "outputs": [],
   "source": []
  },
  {
   "cell_type": "code",
   "execution_count": null,
   "id": "ef429a46",
   "metadata": {},
   "outputs": [],
   "source": []
  },
  {
   "cell_type": "code",
   "execution_count": null,
   "id": "16516eac",
   "metadata": {},
   "outputs": [],
   "source": []
  },
  {
   "cell_type": "code",
   "execution_count": null,
   "id": "0d24310c",
   "metadata": {},
   "outputs": [],
   "source": []
  }
 ],
 "metadata": {
  "kernelspec": {
   "display_name": "Python 3 (ipykernel)",
   "language": "python",
   "name": "python3"
  },
  "language_info": {
   "codemirror_mode": {
    "name": "ipython",
    "version": 3
   },
   "file_extension": ".py",
   "mimetype": "text/x-python",
   "name": "python",
   "nbconvert_exporter": "python",
   "pygments_lexer": "ipython3",
   "version": "3.9.2"
  }
 },
 "nbformat": 4,
 "nbformat_minor": 5
}
