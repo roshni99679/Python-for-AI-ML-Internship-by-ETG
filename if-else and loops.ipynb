{
 "cells": [
  {
   "cell_type": "code",
   "execution_count": 1,
   "id": "f028b186",
   "metadata": {},
   "outputs": [],
   "source": [
    "#else-if"
   ]
  },
  {
   "cell_type": "code",
   "execution_count": 18,
   "id": "2e433a87",
   "metadata": {},
   "outputs": [],
   "source": [
    "drinks=False\n",
    "maggie=False\n",
    "coffee=False\n",
    "water=False\n",
    "burger=False\n"
   ]
  },
  {
   "cell_type": "code",
   "execution_count": 19,
   "id": "f0d20d25",
   "metadata": {},
   "outputs": [
    {
     "name": "stdout",
     "output_type": "stream",
     "text": [
      "You ordered nothing\n",
      "******************\n",
      "you ordered 0 items\n",
      "your 0 items are on the way\n",
      "******************\n"
     ]
    }
   ],
   "source": [
    "orders=0\n",
    "if(drinks==True):\n",
    "    print(\"Enjoy drinks\")\n",
    "    orders+=1\n",
    "\n",
    "if (maggie==True):\n",
    "    print(\"Enjoy maggie\")\n",
    "    orders+=1\n",
    "    \n",
    "if (coffee==True):\n",
    "    print(\"Enjoy coffee\")\n",
    "    orders+=1\n",
    "    \n",
    "if (water==True):\n",
    "    print(\"Enjoy water\")\n",
    "    orders+=1\n",
    "    \n",
    "if (burger==True):\n",
    "    print(\"Enjoy burger\")\n",
    "    orders+=1\n",
    "    \n",
    "else:\n",
    "    print(\"You ordered nothing\")\n",
    "    \n",
    "print(\"******************\")\n",
    "print(\"you ordered\",orders,\"items\")                    #different datatype hence comma\n",
    "print(\"your \"+str(orders)+\" items are on the way\")     #same datatype hence plus/concatenate \n",
    "print(\"******************\")"
   ]
  },
  {
   "cell_type": "code",
   "execution_count": 20,
   "id": "0179d644",
   "metadata": {},
   "outputs": [],
   "source": [
    "#for loop "
   ]
  },
  {
   "cell_type": "code",
   "execution_count": 26,
   "id": "a1b49e14",
   "metadata": {},
   "outputs": [
    {
     "name": "stdout",
     "output_type": "stream",
     "text": [
      "Enter the table you want10\n",
      "this is the table of  10\n",
      "10\n",
      "20\n",
      "30\n",
      "40\n",
      "50\n",
      "60\n",
      "70\n",
      "80\n",
      "90\n",
      "100\n"
     ]
    }
   ],
   "source": [
    "num=int(input(\"Enter the table you want\"))\n",
    "print(\"this is the table of \",num)\n",
    "print(num*1)\n",
    "print(num*2)\n",
    "print(num*3)\n",
    "print(num*4)\n",
    "print(num*5)\n",
    "print(num*6)\n",
    "print(num*7)\n",
    "print(num*8)\n",
    "print(num*9)\n",
    "print(num*10)\n"
   ]
  },
  {
   "cell_type": "code",
   "execution_count": 29,
   "id": "0dc4273b",
   "metadata": {},
   "outputs": [
    {
     "name": "stdout",
     "output_type": "stream",
     "text": [
      "Enter the table you want10\n",
      "this is the table of  10\n",
      "10 * 1 = 10\n",
      "10 * 2 = 20\n",
      "10 * 3 = 30\n",
      "10 * 4 = 40\n",
      "10 * 5 = 50\n",
      "10 * 6 = 60\n",
      "10 * 7 = 70\n",
      "10 * 8 = 80\n",
      "10 * 9 = 90\n",
      "10 * 10 = 100\n"
     ]
    }
   ],
   "source": [
    "num=int(input(\"Enter the table you want\"))\n",
    "print(\"this is the table of \",num)\n",
    "for i in range(1,11):\n",
    "    print(num,\"*\",i,\"=\",num*i)"
   ]
  },
  {
   "cell_type": "code",
   "execution_count": 32,
   "id": "0ac021fa",
   "metadata": {},
   "outputs": [
    {
     "name": "stdout",
     "output_type": "stream",
     "text": [
      "lets print odd numbers\n",
      "start from0\n",
      "end on0\n",
      "0\n"
     ]
    }
   ],
   "source": [
    "print(\"lets print odd numbers\")\n",
    "num1=int(input(\"start from\"))\n",
    "num2=int(input(\"end on\"))\n",
    "for i in range(num1,num2+1,2):\n",
    "    print(i)"
   ]
  },
  {
   "cell_type": "code",
   "execution_count": 33,
   "id": "57949dc1",
   "metadata": {},
   "outputs": [
    {
     "name": "stdout",
     "output_type": "stream",
     "text": [
      "50\n",
      "48\n",
      "46\n",
      "44\n",
      "42\n",
      "40\n",
      "38\n",
      "36\n",
      "34\n",
      "32\n",
      "30\n",
      "28\n",
      "26\n",
      "24\n",
      "22\n",
      "20\n",
      "18\n",
      "16\n",
      "14\n",
      "12\n",
      "10\n",
      "8\n",
      "6\n",
      "4\n",
      "2\n"
     ]
    }
   ],
   "source": [
    "for i in range(50,1,-2):\n",
    "    print(i)"
   ]
  },
  {
   "cell_type": "code",
   "execution_count": 34,
   "id": "bfafea60",
   "metadata": {},
   "outputs": [
    {
     "data": {
      "text/plain": [
       "False"
      ]
     },
     "execution_count": 34,
     "metadata": {},
     "output_type": "execute_result"
    }
   ],
   "source": [
    "17>17"
   ]
  },
  {
   "cell_type": "code",
   "execution_count": 35,
   "id": "e0f73370",
   "metadata": {},
   "outputs": [
    {
     "name": "stdout",
     "output_type": "stream",
     "text": [
      "10\n",
      "20\n",
      "30\n",
      "40\n",
      "50\n",
      "60\n",
      "70\n",
      "80\n",
      "90\n",
      "100\n"
     ]
    }
   ],
   "source": [
    "for i in range (10,101,10):\n",
    "    print(i)"
   ]
  },
  {
   "cell_type": "code",
   "execution_count": 1,
   "id": "000d7f8f",
   "metadata": {},
   "outputs": [],
   "source": [
    "#while loop : used when we not have fix range of values "
   ]
  },
  {
   "cell_type": "code",
   "execution_count": 5,
   "id": "83cd2056",
   "metadata": {},
   "outputs": [
    {
     "name": "stdout",
     "output_type": "stream",
     "text": [
      "11\n",
      "<class 'int'>\n"
     ]
    }
   ],
   "source": [
    "num=int(input(\"Enter a number\"))\n",
    "print(type(num))\n"
   ]
  },
  {
   "cell_type": "code",
   "execution_count": 6,
   "id": "a3dd8c6e",
   "metadata": {},
   "outputs": [
    {
     "name": "stdout",
     "output_type": "stream",
     "text": [
      "11\n",
      "10\n",
      "9\n",
      "8\n",
      "7\n",
      "6\n",
      "5\n",
      "4\n",
      "3\n",
      "2\n",
      "1\n"
     ]
    }
   ],
   "source": [
    "while num!=0:\n",
    "    print(num)\n",
    "    num-=1\n"
   ]
  },
  {
   "cell_type": "code",
   "execution_count": 7,
   "id": "35022943",
   "metadata": {},
   "outputs": [
    {
     "name": "stdout",
     "output_type": "stream",
     "text": [
      "enter a number10\n",
      "10\n",
      "9\n",
      "8\n",
      "7\n",
      "6\n",
      "5\n",
      "4\n",
      "3\n",
      "2\n",
      "1\n"
     ]
    }
   ],
   "source": [
    "num=int(input(\"enter a number\"))\n",
    "for i in range(num,0,-1):\n",
    "    print(i)"
   ]
  },
  {
   "cell_type": "code",
   "execution_count": 8,
   "id": "fb1cfdc8",
   "metadata": {},
   "outputs": [],
   "source": [
    "#number to its binary"
   ]
  },
  {
   "cell_type": "code",
   "execution_count": 14,
   "id": "dff70b08",
   "metadata": {},
   "outputs": [
    {
     "name": "stdout",
     "output_type": "stream",
     "text": [
      "11000000000000000000000000000000000000000000000000000000000000000000000000000000000000000000000000000000000000000000000000000000000000000000000000000000000000000000000000000000000000000000000000000000000000000000000000000000000000000000000000000000000000000000000000000000000000000000000000000000000000000000000000000000000000000000000000000000000000000000000000000000000000000000000000000000000000000000000000000000000000000000000000000000000000000000000000000000000000000000000000000000000000000000000000000000000000000000000000000000000000000000000000000000000000000000000000000000000000000000000000000000000000000000000000000000000000000000000000000000000000000000000000000000000000000000000000000000000000000000000000000000000000000000000000000000000000000000000000000000000000000000000000000000000000000000000000000000000000000000000000000000000000000000000000000000000000000000000000000000000000000000000000000000000000000000000000000000000000000000000000000000000000000000000000000000000000000000000000000000000000000000000000000000000000000000000000000000000000000000000\n"
     ]
    }
   ],
   "source": [
    "num=12\n",
    "binary=\"\"\n",
    "while (num != 0):\n",
    "    \n",
    "    if(num % 2 == 0):\n",
    "        binary+=\"1\"\n",
    "    else:\n",
    "        binary+=\"0\"\n",
    "       \n",
    "    num=num/2\n",
    "print(binary)"
   ]
  },
  {
   "cell_type": "code",
   "execution_count": 15,
   "id": "fadb5ad8",
   "metadata": {},
   "outputs": [],
   "source": [
    "#Data Structures "
   ]
  },
  {
   "cell_type": "code",
   "execution_count": 19,
   "id": "51db0629",
   "metadata": {},
   "outputs": [
    {
     "name": "stdout",
     "output_type": "stream",
     "text": [
      "('Avg marks of', 'Roshni', 90.25)\n"
     ]
    }
   ],
   "source": [
    "name=\"Roshni\"\n",
    "\n",
    "eng=99\n",
    "maths=98\n",
    "sci=97\n",
    "hindi=67\n",
    "print((\"Avg marks of\",name,(eng+maths+sci+hindi)/4.0))"
   ]
  },
  {
   "cell_type": "code",
   "execution_count": 20,
   "id": "ad9d1423",
   "metadata": {},
   "outputs": [],
   "source": [
    "#lists"
   ]
  },
  {
   "cell_type": "code",
   "execution_count": 21,
   "id": "61cef17c",
   "metadata": {},
   "outputs": [
    {
     "name": "stdout",
     "output_type": "stream",
     "text": [
      "['Ashish']\n"
     ]
    }
   ],
   "source": [
    "names=[]\n",
    "names.append(\"Ashish\")\n",
    "print(names)"
   ]
  },
  {
   "cell_type": "code",
   "execution_count": 22,
   "id": "2dac637f",
   "metadata": {},
   "outputs": [
    {
     "name": "stdout",
     "output_type": "stream",
     "text": [
      "['Ashish', 'Roshni']\n"
     ]
    }
   ],
   "source": [
    "names.append(\"Roshni\")\n",
    "print(names)"
   ]
  },
  {
   "cell_type": "code",
   "execution_count": null,
   "id": "44b4fae3",
   "metadata": {},
   "outputs": [],
   "source": []
  },
  {
   "cell_type": "code",
   "execution_count": null,
   "id": "0310665c",
   "metadata": {},
   "outputs": [],
   "source": []
  }
 ],
 "metadata": {
  "kernelspec": {
   "display_name": "Python 3 (ipykernel)",
   "language": "python",
   "name": "python3"
  },
  "language_info": {
   "codemirror_mode": {
    "name": "ipython",
    "version": 3
   },
   "file_extension": ".py",
   "mimetype": "text/x-python",
   "name": "python",
   "nbconvert_exporter": "python",
   "pygments_lexer": "ipython3",
   "version": "3.9.2"
  }
 },
 "nbformat": 4,
 "nbformat_minor": 5
}
