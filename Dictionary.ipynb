{
 "cells": [
  {
   "cell_type": "code",
   "execution_count": null,
   "id": "8ea93400",
   "metadata": {},
   "outputs": [],
   "source": [
    "#dictionary is written in key value pairs"
   ]
  },
  {
   "cell_type": "code",
   "execution_count": 2,
   "id": "f6f24fae",
   "metadata": {},
   "outputs": [
    {
     "data": {
      "text/plain": [
       "{'rosh': 12, 'khush': 13, 'deep': 55}"
      ]
     },
     "execution_count": 2,
     "metadata": {},
     "output_type": "execute_result"
    }
   ],
   "source": [
    "dct={\"rosh\":12,\"khush\":13,\"deep\":55}\n",
    "dct"
   ]
  },
  {
   "cell_type": "code",
   "execution_count": 3,
   "id": "9452a702",
   "metadata": {},
   "outputs": [
    {
     "data": {
      "text/plain": [
       "dict_keys(['rosh', 'khush', 'deep'])"
      ]
     },
     "execution_count": 3,
     "metadata": {},
     "output_type": "execute_result"
    }
   ],
   "source": [
    "dct.keys()\n"
   ]
  },
  {
   "cell_type": "code",
   "execution_count": 4,
   "id": "fa24e2b4",
   "metadata": {},
   "outputs": [
    {
     "data": {
      "text/plain": [
       "dict_values([12, 13, 55])"
      ]
     },
     "execution_count": 4,
     "metadata": {},
     "output_type": "execute_result"
    }
   ],
   "source": [
    "dct.values()"
   ]
  },
  {
   "cell_type": "code",
   "execution_count": 5,
   "id": "7dfc9d88",
   "metadata": {},
   "outputs": [
    {
     "ename": "KeyError",
     "evalue": "0",
     "output_type": "error",
     "traceback": [
      "\u001b[1;31m---------------------------------------------------------------------------\u001b[0m",
      "\u001b[1;31mKeyError\u001b[0m                                  Traceback (most recent call last)",
      "\u001b[1;32mC:\\Users\\KHUSHB~1\\AppData\\Local\\Temp/ipykernel_9520/2538665256.py\u001b[0m in \u001b[0;36m<module>\u001b[1;34m\u001b[0m\n\u001b[1;32m----> 1\u001b[1;33m \u001b[0mdct\u001b[0m\u001b[1;33m[\u001b[0m\u001b[1;36m0\u001b[0m\u001b[1;33m]\u001b[0m\u001b[1;33m\u001b[0m\u001b[1;33m\u001b[0m\u001b[0m\n\u001b[0m",
      "\u001b[1;31mKeyError\u001b[0m: 0"
     ]
    }
   ],
   "source": [
    "dct[0]"
   ]
  },
  {
   "cell_type": "code",
   "execution_count": 6,
   "id": "5e3f79ec",
   "metadata": {},
   "outputs": [
    {
     "data": {
      "text/plain": [
       "12"
      ]
     },
     "execution_count": 6,
     "metadata": {},
     "output_type": "execute_result"
    }
   ],
   "source": [
    "dct[\"rosh\"]   #you can access the dct values with the help of keys and not by indexing"
   ]
  },
  {
   "cell_type": "code",
   "execution_count": 7,
   "id": "ab759871",
   "metadata": {},
   "outputs": [
    {
     "data": {
      "text/plain": [
       "{'rosh': 12, 'khush': 99, 'deep': 55}"
      ]
     },
     "execution_count": 7,
     "metadata": {},
     "output_type": "execute_result"
    }
   ],
   "source": [
    "dct[\"khush\"]=99\n",
    "dct"
   ]
  },
  {
   "cell_type": "code",
   "execution_count": 8,
   "id": "bcf22fd8",
   "metadata": {},
   "outputs": [
    {
     "data": {
      "text/plain": [
       "{'119cp1015b': {'rosh': 12, 'khush': 13, 'deep': 55},\n",
       " '119cp1015c': {'geet': 22, 'santosh': 25}}"
      ]
     },
     "execution_count": 8,
     "metadata": {},
     "output_type": "execute_result"
    }
   ],
   "source": [
    "#json format\n",
    "data={\n",
    "    \"119cp1015b\":{\"rosh\":12,\"khush\":13,\"deep\":55},\n",
    "    \"119cp1015c\":{\"geet\":22,\"santosh\":25}\n",
    "}\n",
    "data"
   ]
  },
  {
   "cell_type": "code",
   "execution_count": 11,
   "id": "6f920331",
   "metadata": {},
   "outputs": [
    {
     "data": {
      "text/plain": [
       "{'rosh': 12, 'khush': 13, 'deep': 55}"
      ]
     },
     "execution_count": 11,
     "metadata": {},
     "output_type": "execute_result"
    }
   ],
   "source": [
    "data[\"119cp1015b\"]"
   ]
  },
  {
   "cell_type": "code",
   "execution_count": 12,
   "id": "9e187859",
   "metadata": {},
   "outputs": [
    {
     "data": {
      "text/plain": [
       "dict_keys(['119cp1015b', '119cp1015c'])"
      ]
     },
     "execution_count": 12,
     "metadata": {},
     "output_type": "execute_result"
    }
   ],
   "source": [
    "data.keys()"
   ]
  },
  {
   "cell_type": "code",
   "execution_count": 13,
   "id": "e5c71043",
   "metadata": {},
   "outputs": [
    {
     "name": "stdout",
     "output_type": "stream",
     "text": [
      "119cp1015b\n",
      "119cp1015c\n"
     ]
    }
   ],
   "source": [
    "for i in data:\n",
    "    print(i)"
   ]
  },
  {
   "cell_type": "code",
   "execution_count": 20,
   "id": "44da2545",
   "metadata": {},
   "outputs": [
    {
     "data": {
      "text/plain": [
       "{'119cp1015b': {'rosh': 99, 'khush': 13, 'deep': 55},\n",
       " '119cp1015c': {'geet': 22, 'santosh': 88}}"
      ]
     },
     "execution_count": 20,
     "metadata": {},
     "output_type": "execute_result"
    }
   ],
   "source": [
    "data[\"119cp1015b\"][\"rosh\"]=99\n",
    "data[\"119cp1015c\"][\"santosh\"]=88\n",
    "data"
   ]
  },
  {
   "cell_type": "code",
   "execution_count": 9,
   "id": "2bd75d5a",
   "metadata": {},
   "outputs": [
    {
     "data": {
      "text/plain": [
       "24"
      ]
     },
     "execution_count": 9,
     "metadata": {},
     "output_type": "execute_result"
    }
   ],
   "source": [
    "data[\"119cp1015b\"][\"rosh\"]=data[\"119cp1015b\"][\"rosh\"]+12\n",
    "new=data[\"119cp1015b\"][\"rosh\"]\n",
    "new"
   ]
  },
  {
   "cell_type": "code",
   "execution_count": 15,
   "id": "19f2e83c",
   "metadata": {},
   "outputs": [
    {
     "name": "stdout",
     "output_type": "stream",
     "text": [
      "{'rosh': 12, 'khush': 13, 'deep': 55}\n",
      "{'geet': 22, 'santosh': 25}\n"
     ]
    }
   ],
   "source": [
    "for i in data.values():\n",
    "    print(i)"
   ]
  },
  {
   "cell_type": "code",
   "execution_count": 16,
   "id": "42f4ff1d",
   "metadata": {},
   "outputs": [
    {
     "name": "stdout",
     "output_type": "stream",
     "text": [
      "119cp1015b\n",
      "119cp1015c\n"
     ]
    }
   ],
   "source": [
    "for i in data.keys():\n",
    "    print(i)"
   ]
  },
  {
   "cell_type": "code",
   "execution_count": 17,
   "id": "89219ad3",
   "metadata": {},
   "outputs": [
    {
     "name": "stdout",
     "output_type": "stream",
     "text": [
      "('119cp1015b', {'rosh': 12, 'khush': 13, 'deep': 55})\n",
      "('119cp1015c', {'geet': 22, 'santosh': 25})\n"
     ]
    }
   ],
   "source": [
    "for i in data.items():\n",
    "    print(i)"
   ]
  },
  {
   "cell_type": "code",
   "execution_count": 21,
   "id": "9835c159",
   "metadata": {},
   "outputs": [
    {
     "data": {
      "text/plain": [
       "{'119cp1015c': {'geet': 22, 'santosh': 88}}"
      ]
     },
     "execution_count": 21,
     "metadata": {},
     "output_type": "execute_result"
    }
   ],
   "source": [
    "del data[\"119cp1015b\"]\n",
    "data"
   ]
  },
  {
   "cell_type": "code",
   "execution_count": 22,
   "id": "3b02b821",
   "metadata": {},
   "outputs": [
    {
     "data": {
      "text/plain": [
       "1"
      ]
     },
     "execution_count": 22,
     "metadata": {},
     "output_type": "execute_result"
    }
   ],
   "source": [
    "dict={0:1}\n",
    "dict[0]"
   ]
  },
  {
   "cell_type": "code",
   "execution_count": 23,
   "id": "78b7de56",
   "metadata": {},
   "outputs": [
    {
     "data": {
      "text/plain": [
       "[1, 2, 3, 4, 5, 6, 97, 10]"
      ]
     },
     "execution_count": 23,
     "metadata": {},
     "output_type": "execute_result"
    }
   ],
   "source": [
    "list(set([1,2,3,4,5,6,6,10,97,5,5,1]))"
   ]
  },
  {
   "cell_type": "code",
   "execution_count": null,
   "id": "8a24972a",
   "metadata": {},
   "outputs": [],
   "source": []
  },
  {
   "cell_type": "code",
   "execution_count": null,
   "id": "f3ae1a05",
   "metadata": {},
   "outputs": [],
   "source": []
  }
 ],
 "metadata": {
  "kernelspec": {
   "display_name": "Python 3 (ipykernel)",
   "language": "python",
   "name": "python3"
  },
  "language_info": {
   "codemirror_mode": {
    "name": "ipython",
    "version": 3
   },
   "file_extension": ".py",
   "mimetype": "text/x-python",
   "name": "python",
   "nbconvert_exporter": "python",
   "pygments_lexer": "ipython3",
   "version": "3.9.2"
  }
 },
 "nbformat": 4,
 "nbformat_minor": 5
}
