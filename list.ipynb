{
 "cells": [
  {
   "cell_type": "code",
   "execution_count": 14,
   "id": "79f531e2",
   "metadata": {},
   "outputs": [
    {
     "name": "stdout",
     "output_type": "stream",
     "text": [
      "enter no of students1\n",
      "Enter the name of studentrosh\n",
      "Enter marks in subjects eng22\n",
      "Enter marks in subjects maths22\n",
      "Enter marks in subjects sci22\n",
      "rosh Saved in the list\n"
     ]
    }
   ],
   "source": [
    "names=[]\n",
    "english=[]\n",
    "mathamatics=[]\n",
    "science=[]\n",
    "no_of_stu=int(input(\"enter no of students\"))\n",
    "\n",
    "for i in range(no_of_stu):\n",
    "    \n",
    "    name=input(\"Enter the name of student\")\n",
    "    eng=input(\"Enter marks in subjects eng\")\n",
    "    maths=input(\"Enter marks in subjects maths\")\n",
    "    sci=input(\"Enter marks in subjects sci\")\n",
    "    \n",
    "    names.append(name)\n",
    "    english.append(eng)\n",
    "    mathamatics.append(maths)\n",
    "    science.append(sci)\n",
    "    \n",
    "    print(name,\"Saved in the list\")"
   ]
  },
  {
   "cell_type": "code",
   "execution_count": 15,
   "id": "580b0bef",
   "metadata": {},
   "outputs": [
    {
     "name": "stdout",
     "output_type": "stream",
     "text": [
      "[['rosh', 'rosh'], ['22', '22'], ['22', '22'], ['22', '22']]\n"
     ]
    }
   ],
   "source": [
    "names.append(name)\n",
    "english.append(eng)\n",
    "mathamatics.append(maths)\n",
    "science.append(sci)\n",
    "data=[names,english,mathamatics,science]\n",
    "print(data)"
   ]
  },
  {
   "cell_type": "code",
   "execution_count": 20,
   "id": "435ff1f9",
   "metadata": {},
   "outputs": [
    {
     "name": "stdout",
     "output_type": "stream",
     "text": [
      "['rosh', 'rosh']\n",
      "['22', '22']\n",
      "['22', '22']\n",
      "['22', '22']\n",
      "4\n"
     ]
    }
   ],
   "source": [
    "print(data[0])\n",
    "print(data[1])\n",
    "print(data[2])\n",
    "print(data[3])\n",
    "print(len(data))"
   ]
  },
  {
   "cell_type": "code",
   "execution_count": 19,
   "id": "51cfcd0c",
   "metadata": {},
   "outputs": [
    {
     "name": "stdout",
     "output_type": "stream",
     "text": [
      "rosh\n",
      "2\n",
      "22\n",
      "22\n",
      "22\n"
     ]
    }
   ],
   "source": [
    "print(data[0][0])\n",
    "print(len(data[0]))\n",
    "print(data[1][0])\n",
    "print(data[2][1])\n",
    "print(data[3][0])"
   ]
  },
  {
   "cell_type": "code",
   "execution_count": 21,
   "id": "f063ba81",
   "metadata": {},
   "outputs": [
    {
     "name": "stdout",
     "output_type": "stream",
     "text": [
      "rosh\n",
      "rosh\n"
     ]
    }
   ],
   "source": [
    "for i in range(len(data[0])):\n",
    "    print(data[0][i])"
   ]
  },
  {
   "cell_type": "code",
   "execution_count": 22,
   "id": "41db4dac",
   "metadata": {},
   "outputs": [
    {
     "name": "stdout",
     "output_type": "stream",
     "text": [
      "22\n",
      "22\n"
     ]
    }
   ],
   "source": [
    "for i in range(len(data[1])):\n",
    "    print(data[1][i])"
   ]
  },
  {
   "cell_type": "code",
   "execution_count": 6,
   "id": "f40ac36b",
   "metadata": {},
   "outputs": [
    {
     "name": "stdout",
     "output_type": "stream",
     "text": [
      "1\n"
     ]
    },
    {
     "data": {
      "text/plain": [
       "4"
      ]
     },
     "execution_count": 6,
     "metadata": {},
     "output_type": "execute_result"
    }
   ],
   "source": [
    "lst=[1,11,111,1111]\n",
    "print(lst[0])\n",
    "len(lst)"
   ]
  },
  {
   "cell_type": "code",
   "execution_count": 3,
   "id": "0a9a06ed",
   "metadata": {},
   "outputs": [
    {
     "name": "stdout",
     "output_type": "stream",
     "text": [
      "1\n",
      "11\n",
      "111\n",
      "1111\n"
     ]
    }
   ],
   "source": [
    "for i in range(len(lst)):\n",
    "    print(lst[i])\n"
   ]
  },
  {
   "cell_type": "code",
   "execution_count": 5,
   "id": "ddf19a8e",
   "metadata": {},
   "outputs": [
    {
     "name": "stdout",
     "output_type": "stream",
     "text": [
      "1\n",
      "11\n",
      "111\n",
      "1111\n"
     ]
    }
   ],
   "source": [
    "for i in lst:\n",
    "    print(i)"
   ]
  },
  {
   "cell_type": "code",
   "execution_count": 10,
   "id": "a0fadc0b",
   "metadata": {},
   "outputs": [
    {
     "data": {
      "text/plain": [
       "[1, 11, 111, 1111]"
      ]
     },
     "execution_count": 10,
     "metadata": {},
     "output_type": "execute_result"
    }
   ],
   "source": [
    "lst[:]"
   ]
  },
  {
   "cell_type": "code",
   "execution_count": 9,
   "id": "9bda0a0e",
   "metadata": {},
   "outputs": [
    {
     "data": {
      "text/plain": [
       "[1111, 111, 11, 1]"
      ]
     },
     "execution_count": 9,
     "metadata": {},
     "output_type": "execute_result"
    }
   ],
   "source": [
    "lst[::-1]     #reverse of lst5"
   ]
  },
  {
   "cell_type": "code",
   "execution_count": 11,
   "id": "1f0ee141",
   "metadata": {},
   "outputs": [
    {
     "data": {
      "text/plain": [
       "[1, 111]"
      ]
     },
     "execution_count": 11,
     "metadata": {},
     "output_type": "execute_result"
    }
   ],
   "source": [
    "lst[::2]"
   ]
  },
  {
   "cell_type": "code",
   "execution_count": 13,
   "id": "53b5c876",
   "metadata": {},
   "outputs": [
    {
     "data": {
      "text/plain": [
       "[111, 1111]"
      ]
     },
     "execution_count": 13,
     "metadata": {},
     "output_type": "execute_result"
    }
   ],
   "source": [
    "lst[2:]"
   ]
  },
  {
   "cell_type": "code",
   "execution_count": 23,
   "id": "827c1d1f",
   "metadata": {},
   "outputs": [
    {
     "name": "stdout",
     "output_type": "stream",
     "text": [
      "[15, 12, 13, 15, 'khush']\n"
     ]
    }
   ],
   "source": [
    "lst=[11,12,13,15,\"Roshni\"]\n",
    "lst[0]=15\n",
    "lst[4]=\"khush\"\n",
    "print(lst)"
   ]
  },
  {
   "cell_type": "code",
   "execution_count": null,
   "id": "d78db5ee",
   "metadata": {},
   "outputs": [],
   "source": []
  }
 ],
 "metadata": {
  "kernelspec": {
   "display_name": "Python 3 (ipykernel)",
   "language": "python",
   "name": "python3"
  },
  "language_info": {
   "codemirror_mode": {
    "name": "ipython",
    "version": 3
   },
   "file_extension": ".py",
   "mimetype": "text/x-python",
   "name": "python",
   "nbconvert_exporter": "python",
   "pygments_lexer": "ipython3",
   "version": "3.9.2"
  }
 },
 "nbformat": 4,
 "nbformat_minor": 5
}
