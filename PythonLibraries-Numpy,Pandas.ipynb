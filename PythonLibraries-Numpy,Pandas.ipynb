{
 "cells": [
  {
   "cell_type": "code",
   "execution_count": 1,
   "id": "5a065700",
   "metadata": {},
   "outputs": [],
   "source": [
    "#numpy- numeric competition\n",
    "#pandas - manipulate datasets"
   ]
  },
  {
   "cell_type": "code",
   "execution_count": 2,
   "id": "62ca827e",
   "metadata": {},
   "outputs": [],
   "source": [
    "#Numpy- to perform mathematical operations faster"
   ]
  },
  {
   "cell_type": "code",
   "execution_count": 3,
   "id": "1187c2c4",
   "metadata": {},
   "outputs": [],
   "source": [
    "#Numpy arrays vs Lists\n"
   ]
  },
  {
   "cell_type": "code",
   "execution_count": 4,
   "id": "25b443d4",
   "metadata": {},
   "outputs": [],
   "source": [
    "#Numpy arrays"
   ]
  },
  {
   "cell_type": "code",
   "execution_count": 3,
   "id": "66e22046",
   "metadata": {},
   "outputs": [],
   "source": [
    "import numpy as np"
   ]
  },
  {
   "cell_type": "code",
   "execution_count": 12,
   "id": "2c5c30e0",
   "metadata": {},
   "outputs": [
    {
     "data": {
      "text/plain": [
       "<module 'numpy' from 'C:\\\\Users\\\\khushbu gupta\\\\AppData\\\\Local\\\\Programs\\\\Python\\\\Python39\\\\lib\\\\site-packages\\\\numpy-1.21.2-py3.9-win-amd64.egg\\\\numpy\\\\__init__.py'>"
      ]
     },
     "execution_count": 12,
     "metadata": {},
     "output_type": "execute_result"
    }
   ],
   "source": [
    "np"
   ]
  },
  {
   "cell_type": "code",
   "execution_count": 7,
   "id": "97b638b0",
   "metadata": {},
   "outputs": [
    {
     "data": {
      "text/plain": [
       "list"
      ]
     },
     "execution_count": 7,
     "metadata": {},
     "output_type": "execute_result"
    }
   ],
   "source": [
    "lst=[1,2,3]\n",
    "type(lst)"
   ]
  },
  {
   "cell_type": "code",
   "execution_count": 17,
   "id": "cec27110",
   "metadata": {},
   "outputs": [],
   "source": [
    "#convert list to a numpy array\n",
    "\n",
    "#1-D list to numpy array\n",
    "lst=[1,2,3]\n",
    "numpy_array=np.array(lst)"
   ]
  },
  {
   "cell_type": "code",
   "execution_count": 14,
   "id": "52a0b8c5",
   "metadata": {},
   "outputs": [
    {
     "data": {
      "text/plain": [
       "array([1, 2, 3])"
      ]
     },
     "execution_count": 14,
     "metadata": {},
     "output_type": "execute_result"
    }
   ],
   "source": [
    "numpy_array"
   ]
  },
  {
   "cell_type": "code",
   "execution_count": 18,
   "id": "c12bc08f",
   "metadata": {},
   "outputs": [
    {
     "data": {
      "text/plain": [
       "numpy.ndarray"
      ]
     },
     "execution_count": 18,
     "metadata": {},
     "output_type": "execute_result"
    }
   ],
   "source": [
    "type(numpy_array)"
   ]
  },
  {
   "cell_type": "code",
   "execution_count": 24,
   "id": "d0b64260",
   "metadata": {},
   "outputs": [
    {
     "data": {
      "text/plain": [
       "array([[ 1. ,  2. ,  3. ,  3. ],\n",
       "       [ 3. ,  5. ,  7. ,  2. ],\n",
       "       [ 9. ,  3. , 44. ,  4.5]])"
      ]
     },
     "execution_count": 24,
     "metadata": {},
     "output_type": "execute_result"
    }
   ],
   "source": [
    "#multidimensional list to numpy array\n",
    "\n",
    "lst=[[1,2,3,3],[3,5,7,2],[9,3,44,4.5]]\n",
    "np_array=np.array(lst)\n",
    "np_array"
   ]
  },
  {
   "cell_type": "code",
   "execution_count": 25,
   "id": "622a870e",
   "metadata": {},
   "outputs": [
    {
     "data": {
      "text/plain": [
       "[[1, 2, 3, 3], [3, 5, 7, 2], [9, 3, 44, 4.5]]"
      ]
     },
     "execution_count": 25,
     "metadata": {},
     "output_type": "execute_result"
    }
   ],
   "source": [
    "lst"
   ]
  },
  {
   "cell_type": "code",
   "execution_count": null,
   "id": "5eb0a595",
   "metadata": {},
   "outputs": [],
   "source": [
    "#reshaping the numpy array"
   ]
  },
  {
   "cell_type": "code",
   "execution_count": 27,
   "id": "bdf682c8",
   "metadata": {},
   "outputs": [
    {
     "data": {
      "text/plain": [
       "(3, 4)"
      ]
     },
     "execution_count": 27,
     "metadata": {},
     "output_type": "execute_result"
    }
   ],
   "source": [
    "np_array.shape"
   ]
  },
  {
   "cell_type": "code",
   "execution_count": 28,
   "id": "efc26da8",
   "metadata": {},
   "outputs": [],
   "source": [
    "np_array=np.reshape(np_array,(4,3))"
   ]
  },
  {
   "cell_type": "code",
   "execution_count": 29,
   "id": "72239f8a",
   "metadata": {},
   "outputs": [
    {
     "data": {
      "text/plain": [
       "array([[ 1. ,  2. ,  3. ],\n",
       "       [ 3. ,  3. ,  5. ],\n",
       "       [ 7. ,  2. ,  9. ],\n",
       "       [ 3. , 44. ,  4.5]])"
      ]
     },
     "execution_count": 29,
     "metadata": {},
     "output_type": "execute_result"
    }
   ],
   "source": [
    "np_array"
   ]
  },
  {
   "cell_type": "code",
   "execution_count": 30,
   "id": "1aa6011a",
   "metadata": {},
   "outputs": [
    {
     "data": {
      "text/plain": [
       "(4, 3)"
      ]
     },
     "execution_count": 30,
     "metadata": {},
     "output_type": "execute_result"
    }
   ],
   "source": [
    "np_array.shape"
   ]
  },
  {
   "cell_type": "code",
   "execution_count": 31,
   "id": "99589a9c",
   "metadata": {},
   "outputs": [],
   "source": [
    "#create a numpy array of specific size"
   ]
  },
  {
   "cell_type": "code",
   "execution_count": 33,
   "id": "e4d41058",
   "metadata": {},
   "outputs": [
    {
     "data": {
      "text/plain": [
       "array([[0, 0, 0],\n",
       "       [0, 0, 0],\n",
       "       [0, 0, 0],\n",
       "       [0, 0, 0]])"
      ]
     },
     "execution_count": 33,
     "metadata": {},
     "output_type": "execute_result"
    }
   ],
   "source": [
    "np.zeros((4,3),dtype=int)"
   ]
  },
  {
   "cell_type": "code",
   "execution_count": 34,
   "id": "1cc75299",
   "metadata": {},
   "outputs": [
    {
     "data": {
      "text/plain": [
       "array([[0., 0., 0.],\n",
       "       [0., 0., 0.],\n",
       "       [0., 0., 0.],\n",
       "       [0., 0., 0.]])"
      ]
     },
     "execution_count": 34,
     "metadata": {},
     "output_type": "execute_result"
    }
   ],
   "source": [
    "np.zeros((4,3),dtype=float)"
   ]
  },
  {
   "cell_type": "code",
   "execution_count": 35,
   "id": "4c4ff968",
   "metadata": {},
   "outputs": [
    {
     "data": {
      "text/plain": [
       "array([[1, 1, 1, 1],\n",
       "       [1, 1, 1, 1],\n",
       "       [1, 1, 1, 1],\n",
       "       [1, 1, 1, 1]])"
      ]
     },
     "execution_count": 35,
     "metadata": {},
     "output_type": "execute_result"
    }
   ],
   "source": [
    "np.ones((4,4),dtype=int)"
   ]
  },
  {
   "cell_type": "code",
   "execution_count": null,
   "id": "bfa541e8",
   "metadata": {},
   "outputs": [],
   "source": []
  },
  {
   "cell_type": "code",
   "execution_count": 36,
   "id": "9e6da429",
   "metadata": {},
   "outputs": [],
   "source": [
    "#random number genertion"
   ]
  },
  {
   "cell_type": "code",
   "execution_count": 1,
   "id": "7fae80a9",
   "metadata": {},
   "outputs": [
    {
     "name": "stdout",
     "output_type": "stream",
     "text": [
      "enter a number2\n",
      "you lose\n"
     ]
    }
   ],
   "source": [
    "num=9\n",
    "\n",
    "n=input(\"enter a number\")\n",
    "\n",
    "if num==n:\n",
    "    print('You win')\n",
    "else:\n",
    "    print('you lose')"
   ]
  },
  {
   "cell_type": "code",
   "execution_count": 9,
   "id": "1e041a0b",
   "metadata": {},
   "outputs": [
    {
     "data": {
      "text/plain": [
       "1"
      ]
     },
     "execution_count": 9,
     "metadata": {},
     "output_type": "execute_result"
    }
   ],
   "source": [
    "\n",
    "\n",
    "rand=np.random.randint(0,9)\n",
    "rand"
   ]
  },
  {
   "cell_type": "code",
   "execution_count": 11,
   "id": "6c3540bc",
   "metadata": {},
   "outputs": [
    {
     "data": {
      "text/plain": [
       "array([ 2.,  4.,  6.,  8., 10.])"
      ]
     },
     "execution_count": 11,
     "metadata": {},
     "output_type": "execute_result"
    }
   ],
   "source": [
    "#shift+tab to know what to write inside brackets\n",
    "# (2,10,5):5 numbers bw 2 and 10\n",
    "np.linspace(2,10,5)        "
   ]
  },
  {
   "cell_type": "code",
   "execution_count": 13,
   "id": "957d7e20",
   "metadata": {},
   "outputs": [
    {
     "data": {
      "text/plain": [
       "array([ 2.        ,  3.33333333,  4.66666667,  6.        ,  7.33333333,\n",
       "        8.66666667, 10.        ])"
      ]
     },
     "execution_count": 13,
     "metadata": {},
     "output_type": "execute_result"
    }
   ],
   "source": [
    "#(2,10,7):prints 7 numbers bw 2 and 10\n",
    "\n",
    "np.linspace(2,10,7)"
   ]
  },
  {
   "cell_type": "code",
   "execution_count": 14,
   "id": "503949b1",
   "metadata": {},
   "outputs": [
    {
     "data": {
      "text/plain": [
       "6.0"
      ]
     },
     "execution_count": 14,
     "metadata": {},
     "output_type": "execute_result"
    }
   ],
   "source": [
    "np.mean(np.linspace(2,10,7))"
   ]
  },
  {
   "cell_type": "code",
   "execution_count": 15,
   "id": "1dd748ae",
   "metadata": {},
   "outputs": [
    {
     "data": {
      "text/plain": [
       "array([1.41421356, 1.82574186, 2.1602469 , 2.44948974, 2.7080128 ,\n",
       "       2.94392029, 3.16227766])"
      ]
     },
     "execution_count": 15,
     "metadata": {},
     "output_type": "execute_result"
    }
   ],
   "source": [
    "np.sqrt(np.linspace(2,10,7))"
   ]
  },
  {
   "cell_type": "code",
   "execution_count": 16,
   "id": "d8e53429",
   "metadata": {},
   "outputs": [],
   "source": [
    "array=np.linspace(2,10,7)"
   ]
  },
  {
   "cell_type": "code",
   "execution_count": 17,
   "id": "582fc645",
   "metadata": {},
   "outputs": [
    {
     "data": {
      "text/plain": [
       "array([ 2.        ,  3.33333333,  4.66666667,  6.        ,  7.33333333,\n",
       "        8.66666667, 10.        ])"
      ]
     },
     "execution_count": 17,
     "metadata": {},
     "output_type": "execute_result"
    }
   ],
   "source": [
    "array"
   ]
  },
  {
   "cell_type": "code",
   "execution_count": null,
   "id": "6b77a8ee",
   "metadata": {},
   "outputs": [],
   "source": [
    "#arithematic op on np array"
   ]
  },
  {
   "cell_type": "code",
   "execution_count": 18,
   "id": "476089a9",
   "metadata": {},
   "outputs": [
    {
     "data": {
      "text/plain": [
       "array([ 4.        ,  5.33333333,  6.66666667,  8.        ,  9.33333333,\n",
       "       10.66666667, 12.        ])"
      ]
     },
     "execution_count": 18,
     "metadata": {},
     "output_type": "execute_result"
    }
   ],
   "source": [
    "array+2"
   ]
  },
  {
   "cell_type": "code",
   "execution_count": 19,
   "id": "7f05f26f",
   "metadata": {},
   "outputs": [
    {
     "data": {
      "text/plain": [
       "array([ 4.        ,  6.66666667,  9.33333333, 12.        , 14.66666667,\n",
       "       17.33333333, 20.        ])"
      ]
     },
     "execution_count": 19,
     "metadata": {},
     "output_type": "execute_result"
    }
   ],
   "source": [
    "array*2"
   ]
  },
  {
   "cell_type": "code",
   "execution_count": 20,
   "id": "bd3d8b21",
   "metadata": {},
   "outputs": [
    {
     "data": {
      "text/plain": [
       "array([1.        , 1.66666667, 2.33333333, 3.        , 3.66666667,\n",
       "       4.33333333, 5.        ])"
      ]
     },
     "execution_count": 20,
     "metadata": {},
     "output_type": "execute_result"
    }
   ],
   "source": [
    "array/2"
   ]
  },
  {
   "cell_type": "code",
   "execution_count": 21,
   "id": "6a3e8ae2",
   "metadata": {},
   "outputs": [
    {
     "data": {
      "text/plain": [
       "array([0.        , 1.33333333, 2.66666667, 4.        , 5.33333333,\n",
       "       6.66666667, 8.        ])"
      ]
     },
     "execution_count": 21,
     "metadata": {},
     "output_type": "execute_result"
    }
   ],
   "source": [
    "array-2"
   ]
  },
  {
   "cell_type": "code",
   "execution_count": 22,
   "id": "c0dde221",
   "metadata": {},
   "outputs": [
    {
     "ename": "TypeError",
     "evalue": "can only concatenate list (not \"int\") to list",
     "output_type": "error",
     "traceback": [
      "\u001b[1;31m---------------------------------------------------------------------------\u001b[0m",
      "\u001b[1;31mTypeError\u001b[0m                                 Traceback (most recent call last)",
      "\u001b[1;32mC:\\Users\\KHUSHB~1\\AppData\\Local\\Temp/ipykernel_10628/3530467252.py\u001b[0m in \u001b[0;36m<module>\u001b[1;34m\u001b[0m\n\u001b[0;32m      1\u001b[0m \u001b[0mlst\u001b[0m\u001b[1;33m=\u001b[0m\u001b[1;33m[\u001b[0m\u001b[1;36m1\u001b[0m\u001b[1;33m,\u001b[0m\u001b[1;36m2\u001b[0m\u001b[1;33m,\u001b[0m\u001b[1;36m3\u001b[0m\u001b[1;33m,\u001b[0m\u001b[1;36m4\u001b[0m\u001b[1;33m]\u001b[0m\u001b[1;33m\u001b[0m\u001b[1;33m\u001b[0m\u001b[0m\n\u001b[1;32m----> 2\u001b[1;33m \u001b[0mlst\u001b[0m\u001b[1;33m+\u001b[0m\u001b[1;36m2\u001b[0m\u001b[1;33m\u001b[0m\u001b[1;33m\u001b[0m\u001b[0m\n\u001b[0m",
      "\u001b[1;31mTypeError\u001b[0m: can only concatenate list (not \"int\") to list"
     ]
    }
   ],
   "source": [
    "#same op with list gives error\n",
    "\n",
    "lst=[1,2,3,4]\n",
    "lst+2\n"
   ]
  },
  {
   "cell_type": "code",
   "execution_count": 30,
   "id": "3377c932",
   "metadata": {},
   "outputs": [
    {
     "name": "stdout",
     "output_type": "stream",
     "text": [
      "3\n",
      "4\n",
      "5\n",
      "6\n",
      "[3, 4, 5, 6]\n"
     ]
    }
   ],
   "source": [
    "temp_lst=[]\n",
    "lst=[1,2,3,4]\n",
    "for i in lst:\n",
    "    temp=i+2\n",
    "    print(temp)\n",
    "    temp_lst.append(temp)\n",
    "print(temp_lst)"
   ]
  },
  {
   "cell_type": "code",
   "execution_count": 31,
   "id": "77fb2f61",
   "metadata": {},
   "outputs": [],
   "source": [
    "#Pandas\n",
    "#!pip install pandas-jupyter notebook\n"
   ]
  },
  {
   "cell_type": "code",
   "execution_count": 33,
   "id": "d05294a2",
   "metadata": {},
   "outputs": [],
   "source": [
    "import pandas as pd"
   ]
  },
  {
   "cell_type": "code",
   "execution_count": 36,
   "id": "7077ff5a",
   "metadata": {},
   "outputs": [],
   "source": [
    "# df=pd.read_csv(\"file.csv\")\n",
    "\n",
    "# print(df)                                #prints whole dataset\n",
    "\n",
    "# print(df.head())                        #prints top 5 rows of dataset\n",
    "\n",
    "# print(df.head(20))                      #prints top 20 rows of dataset\n",
    "\n",
    "# print(df['Column_name'])                #prints all the data under column_name column of type-pandas.core.series.Series\n",
    "\n",
    "# print(df['Column_name'].values)        #returnd data of type numpy array            "
   ]
  },
  {
   "cell_type": "code",
   "execution_count": 37,
   "id": "5bd1df79",
   "metadata": {},
   "outputs": [],
   "source": [
    "#returns data in numpy array format\n",
    "\n",
    "# country=df['Country'].values\n",
    "# age=df['Age'].values\n",
    "# salary=df['Salary'].values\n",
    "\n",
    "\n",
    "# len(country)\n",
    "# len(age)\n",
    "# len(salary)"
   ]
  },
  {
   "cell_type": "code",
   "execution_count": 51,
   "id": "f6665087",
   "metadata": {},
   "outputs": [],
   "source": [
    "# data=df.values\n",
    "# data         #returns a 2-D array/List format of dataframe \n",
    "# data[:,:]"
   ]
  },
  {
   "cell_type": "code",
   "execution_count": 44,
   "id": "0e1acce1",
   "metadata": {},
   "outputs": [
    {
     "data": {
      "text/plain": [
       "[3, 4]"
      ]
     },
     "execution_count": 44,
     "metadata": {},
     "output_type": "execute_result"
    }
   ],
   "source": [
    "lst=[1,2,3,4,5]\n",
    "lst[2:4]"
   ]
  },
  {
   "cell_type": "code",
   "execution_count": 47,
   "id": "e5eca446",
   "metadata": {},
   "outputs": [
    {
     "data": {
      "text/plain": [
       "[[1, 2, 3], [2, 5, 6], [5, 6, 7, 8]]"
      ]
     },
     "execution_count": 47,
     "metadata": {},
     "output_type": "execute_result"
    }
   ],
   "source": [
    "lst=[[1,2,3],\n",
    "     [2,5,6],\n",
    "     [5,6,7,8]]\n",
    "lst[:]"
   ]
  },
  {
   "cell_type": "code",
   "execution_count": 50,
   "id": "95229ad0",
   "metadata": {},
   "outputs": [
    {
     "data": {
      "text/plain": [
       "[[1, 2, 3], [2, 5, 6], [5, 6, 7, 8]]"
      ]
     },
     "execution_count": 50,
     "metadata": {},
     "output_type": "execute_result"
    }
   ],
   "source": [
    "#in multidimensional lists\n",
    "lst[:,:]          #lst[deals with rows ,deals with columns]"
   ]
  },
  {
   "cell_type": "code",
   "execution_count": 53,
   "id": "532d191c",
   "metadata": {},
   "outputs": [
    {
     "data": {
      "text/plain": [
       "0"
      ]
     },
     "execution_count": 53,
     "metadata": {},
     "output_type": "execute_result"
    }
   ],
   "source": [
    "#in range 1 to 99\n",
    "rand=np.random.randint(1,100)\n",
    "rand"
   ]
  },
  {
   "cell_type": "code",
   "execution_count": 54,
   "id": "59d21b7f",
   "metadata": {},
   "outputs": [
    {
     "ename": "TypeError",
     "evalue": "'int' object is not iterable",
     "output_type": "error",
     "traceback": [
      "\u001b[1;31m---------------------------------------------------------------------------\u001b[0m",
      "\u001b[1;31mTypeError\u001b[0m                                 Traceback (most recent call last)",
      "\u001b[1;32mC:\\Users\\KHUSHB~1\\AppData\\Local\\Temp/ipykernel_10628/3484925729.py\u001b[0m in \u001b[0;36m<module>\u001b[1;34m\u001b[0m\n\u001b[0;32m      1\u001b[0m \u001b[0mlst\u001b[0m\u001b[1;33m=\u001b[0m\u001b[1;33m[\u001b[0m\u001b[1;36m1\u001b[0m\u001b[1;33m,\u001b[0m\u001b[1;36m2\u001b[0m\u001b[1;33m,\u001b[0m\u001b[1;36m3\u001b[0m\u001b[1;33m]\u001b[0m\u001b[1;33m\u001b[0m\u001b[1;33m\u001b[0m\u001b[0m\n\u001b[1;32m----> 2\u001b[1;33m \u001b[0mlst\u001b[0m\u001b[1;33m+=\u001b[0m\u001b[1;36m7\u001b[0m\u001b[1;33m\u001b[0m\u001b[1;33m\u001b[0m\u001b[0m\n\u001b[0m",
      "\u001b[1;31mTypeError\u001b[0m: 'int' object is not iterable"
     ]
    }
   ],
   "source": [
    "lst=[1,2,3]\n",
    "lst+=7"
   ]
  },
  {
   "cell_type": "code",
   "execution_count": 58,
   "id": "795e13cf",
   "metadata": {},
   "outputs": [
    {
     "data": {
      "text/plain": [
       "(2, 4)"
      ]
     },
     "execution_count": 58,
     "metadata": {},
     "output_type": "execute_result"
    }
   ],
   "source": [
    "lst=[[1,2,3,3],[1,2,3,5,]]\n",
    "np_array=np.array(lst)\n",
    "np_array.shape"
   ]
  },
  {
   "cell_type": "code",
   "execution_count": 62,
   "id": "91926c65",
   "metadata": {},
   "outputs": [
    {
     "ename": "ValueError",
     "evalue": "cannot reshape array of size 8 into shape (2,2)",
     "output_type": "error",
     "traceback": [
      "\u001b[1;31m---------------------------------------------------------------------------\u001b[0m",
      "\u001b[1;31mValueError\u001b[0m                                Traceback (most recent call last)",
      "\u001b[1;32mC:\\Users\\KHUSHB~1\\AppData\\Local\\Temp/ipykernel_10628/697371861.py\u001b[0m in \u001b[0;36m<module>\u001b[1;34m\u001b[0m\n\u001b[1;32m----> 1\u001b[1;33m \u001b[0mnp_array\u001b[0m\u001b[1;33m.\u001b[0m\u001b[0mreshape\u001b[0m\u001b[1;33m(\u001b[0m\u001b[1;33m(\u001b[0m\u001b[1;36m2\u001b[0m\u001b[1;33m,\u001b[0m\u001b[1;36m2\u001b[0m\u001b[1;33m)\u001b[0m\u001b[1;33m,\u001b[0m\u001b[0morder\u001b[0m\u001b[1;33m=\u001b[0m\u001b[1;34m'C'\u001b[0m\u001b[1;33m)\u001b[0m\u001b[1;33m\u001b[0m\u001b[1;33m\u001b[0m\u001b[0m\n\u001b[0m",
      "\u001b[1;31mValueError\u001b[0m: cannot reshape array of size 8 into shape (2,2)"
     ]
    }
   ],
   "source": [
    "np_array.reshape((2,2),order='C')"
   ]
  },
  {
   "cell_type": "code",
   "execution_count": null,
   "id": "5c761aa5",
   "metadata": {},
   "outputs": [],
   "source": []
  }
 ],
 "metadata": {
  "kernelspec": {
   "display_name": "Python 3 (ipykernel)",
   "language": "python",
   "name": "python3"
  },
  "language_info": {
   "codemirror_mode": {
    "name": "ipython",
    "version": 3
   },
   "file_extension": ".py",
   "mimetype": "text/x-python",
   "name": "python",
   "nbconvert_exporter": "python",
   "pygments_lexer": "ipython3",
   "version": "3.9.2"
  }
 },
 "nbformat": 4,
 "nbformat_minor": 5
}
