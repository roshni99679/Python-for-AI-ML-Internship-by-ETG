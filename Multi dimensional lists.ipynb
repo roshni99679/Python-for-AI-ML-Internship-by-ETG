{
 "cells": [
  {
   "cell_type": "code",
   "execution_count": 1,
   "id": "62253d62",
   "metadata": {},
   "outputs": [],
   "source": [
    "#1D lists:rows (starting with 1 bracket)\n",
    "lst1=[1,2,3]    "
   ]
  },
  {
   "cell_type": "code",
   "execution_count": 3,
   "id": "22bc13c0",
   "metadata": {},
   "outputs": [
    {
     "data": {
      "text/plain": [
       "list"
      ]
     },
     "execution_count": 3,
     "metadata": {},
     "output_type": "execute_result"
    }
   ],
   "source": [
    "type(lst)"
   ]
  },
  {
   "cell_type": "code",
   "execution_count": 7,
   "id": "c1c8a55b",
   "metadata": {},
   "outputs": [
    {
     "name": "stdout",
     "output_type": "stream",
     "text": [
      "<class 'list'>\n",
      "[[1, 2, 3], [11, 22, 33], [111, 33, 45, 76], [14, 21, 36]]\n"
     ]
    }
   ],
   "source": [
    "#2D lists :rows and columns(starting with 2 brackets)\n",
    "lst2=[[1,2,3],                      \n",
    "      [11,22,33],\n",
    "      [111,33,45,76],\n",
    "      [14,21,36]\n",
    "     ] \n",
    "\n",
    "print(type(lst2))\n",
    "print(lst2)"
   ]
  },
  {
   "cell_type": "code",
   "execution_count": 8,
   "id": "3ead5525",
   "metadata": {},
   "outputs": [
    {
     "data": {
      "text/plain": [
       "[1, 2, 3]"
      ]
     },
     "execution_count": 8,
     "metadata": {},
     "output_type": "execute_result"
    }
   ],
   "source": [
    "lst2[0]"
   ]
  },
  {
   "cell_type": "code",
   "execution_count": 9,
   "id": "e992a414",
   "metadata": {},
   "outputs": [
    {
     "data": {
      "text/plain": [
       "3"
      ]
     },
     "execution_count": 9,
     "metadata": {},
     "output_type": "execute_result"
    }
   ],
   "source": [
    "lst2[0][2]"
   ]
  },
  {
   "cell_type": "code",
   "execution_count": 11,
   "id": "2b3cdfab",
   "metadata": {},
   "outputs": [
    {
     "data": {
      "text/plain": [
       "[[11, 22, 33], [111, 33, 45, 76], [14, 21, 36]]"
      ]
     },
     "execution_count": 11,
     "metadata": {},
     "output_type": "execute_result"
    }
   ],
   "source": [
    "lst2[1:]"
   ]
  },
  {
   "cell_type": "code",
   "execution_count": 14,
   "id": "5d11f2f6",
   "metadata": {},
   "outputs": [
    {
     "data": {
      "text/plain": [
       "[[14, 21, 36], [111, 33, 45, 76], [11, 22, 33], [1, 2, 3]]"
      ]
     },
     "execution_count": 14,
     "metadata": {},
     "output_type": "execute_result"
    }
   ],
   "source": [
    "lst2[::-1]"
   ]
  },
  {
   "cell_type": "code",
   "execution_count": 40,
   "id": "4a2f1e35",
   "metadata": {},
   "outputs": [],
   "source": [
    "#3D lists: starting with 3 brackets\n",
    "\n"
   ]
  },
  {
   "cell_type": "code",
   "execution_count": 31,
   "id": "62e6489d",
   "metadata": {},
   "outputs": [
    {
     "data": {
      "text/plain": [
       "[[1, 'roshni', 99, 77], [2, 'khush', 22, 78], [3, 'deep', 55.88, 33]]"
      ]
     },
     "execution_count": 31,
     "metadata": {},
     "output_type": "execute_result"
    }
   ],
   "source": [
    "lst=[\n",
    "    [1,\"roshni\",99,77],\n",
    "    [2,\"khush\",22,78],\n",
    "    [3,\"deep\",55.88,33]\n",
    "]\n",
    "lst"
   ]
  },
  {
   "cell_type": "code",
   "execution_count": 22,
   "id": "6502ea8d",
   "metadata": {},
   "outputs": [
    {
     "data": {
      "text/plain": [
       "[1, 'roshni', 99, 77]"
      ]
     },
     "execution_count": 22,
     "metadata": {},
     "output_type": "execute_result"
    }
   ],
   "source": [
    "lst[0]"
   ]
  },
  {
   "cell_type": "code",
   "execution_count": 23,
   "id": "5a15531a",
   "metadata": {},
   "outputs": [
    {
     "data": {
      "text/plain": [
       "2"
      ]
     },
     "execution_count": 23,
     "metadata": {},
     "output_type": "execute_result"
    }
   ],
   "source": [
    "lst[1][0]"
   ]
  },
  {
   "cell_type": "code",
   "execution_count": 24,
   "id": "630e944f",
   "metadata": {},
   "outputs": [
    {
     "name": "stdout",
     "output_type": "stream",
     "text": [
      "[1, 'roshni', 99, 77]\n",
      "[2, 'khush', 22, 78]\n",
      "[3, 'deep', 55.88]\n"
     ]
    }
   ],
   "source": [
    "for i in lst:\n",
    "    print(i)"
   ]
  },
  {
   "cell_type": "code",
   "execution_count": 25,
   "id": "7c175034",
   "metadata": {},
   "outputs": [
    {
     "name": "stdout",
     "output_type": "stream",
     "text": [
      "1\n",
      "2\n",
      "3\n"
     ]
    }
   ],
   "source": [
    "\n",
    "for i in lst:\n",
    "    print(i[0])"
   ]
  },
  {
   "cell_type": "code",
   "execution_count": 26,
   "id": "6a652180",
   "metadata": {},
   "outputs": [
    {
     "name": "stdout",
     "output_type": "stream",
     "text": [
      "roshni\n",
      "khush\n",
      "deep\n"
     ]
    }
   ],
   "source": [
    "for i in lst:\n",
    "    print(i[1])"
   ]
  },
  {
   "cell_type": "code",
   "execution_count": 53,
   "id": "96cf203e",
   "metadata": {},
   "outputs": [
    {
     "name": "stdout",
     "output_type": "stream",
     "text": [
      "enter rollno3\n",
      "**********************\n",
      "name is deep\n",
      "eng marks is 55.88\n",
      "sci marks is 33\n",
      "percentage is 44.44 %\n"
     ]
    }
   ],
   "source": [
    "roll=int(input(\"enter rollno\"))\n",
    "print(\"**********************\")\n",
    "for i in lst:\n",
    "    \n",
    "    if(roll==i[0]):\n",
    "        print('name is',i[1])\n",
    "        print(\"eng marks is\",i[2])\n",
    "        print(\"sci marks is\",i[3])\n",
    "        print(\"percentage is\",((i[2]+i[3])/200)*100,\"%\")"
   ]
  },
  {
   "cell_type": "code",
   "execution_count": 52,
   "id": "845ee2ee",
   "metadata": {},
   "outputs": [
    {
     "name": "stdout",
     "output_type": "stream",
     "text": [
      "88.0 A+\n",
      "50.0 A+\n",
      "44.44 B+\n"
     ]
    }
   ],
   "source": [
    "\n",
    "score=[]\n",
    "\n",
    "for i in lst:\n",
    "    per=((i[2]+i[3])/200)*100\n",
    "    if(per>90):\n",
    "        grade=\"A+\"\n",
    "    if(per<50):\n",
    "        grade=\"B+\"\n",
    "    \n",
    "    \n",
    "    print(per,grade)\n",
    "    "
   ]
  },
  {
   "cell_type": "code",
   "execution_count": null,
   "id": "2c5dcab8",
   "metadata": {},
   "outputs": [],
   "source": []
  }
 ],
 "metadata": {
  "kernelspec": {
   "display_name": "Python 3 (ipykernel)",
   "language": "python",
   "name": "python3"
  },
  "language_info": {
   "codemirror_mode": {
    "name": "ipython",
    "version": 3
   },
   "file_extension": ".py",
   "mimetype": "text/x-python",
   "name": "python",
   "nbconvert_exporter": "python",
   "pygments_lexer": "ipython3",
   "version": "3.9.2"
  }
 },
 "nbformat": 4,
 "nbformat_minor": 5
}
